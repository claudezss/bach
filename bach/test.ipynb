{
 "cells": [
  {
   "cell_type": "code",
   "id": "ce92ac382bf5e0fd",
   "metadata": {
    "ExecuteTime": {
     "end_time": "2025-03-12T02:05:42.742958Z",
     "start_time": "2025-03-12T02:05:42.097887Z"
    }
   },
   "source": [
    "from datasets import load_dataset\n",
    "from bach import ROOT_DIR\n",
    "import pygame\n",
    "import numpy as np\n",
    "import pyarrow\n",
    "import pretty_midi"
   ],
   "outputs": [
    {
     "name": "stderr",
     "output_type": "stream",
     "text": [
      "D:\\Dev\\repo\\bach\\env\\Lib\\site-packages\\tqdm\\auto.py:21: TqdmWarning: IProgress not found. Please update jupyter and ipywidgets. See https://ipywidgets.readthedocs.io/en/stable/user_install.html\n",
      "  from .autonotebook import tqdm as notebook_tqdm\n"
     ]
    },
    {
     "name": "stdout",
     "output_type": "stream",
     "text": [
      "pygame 2.6.1 (SDL 2.28.4, Python 3.12.6)\n",
      "Hello from the pygame community. https://www.pygame.org/contribute.html\n"
     ]
    }
   ],
   "execution_count": 1
  },
  {
   "metadata": {
    "ExecuteTime": {
     "end_time": "2025-03-10T19:51:37.342412Z",
     "start_time": "2025-03-10T19:51:34.681111Z"
    }
   },
   "cell_type": "code",
   "source": "ds = load_dataset(\"drengskapur/midi-classical-music\",  cache_dir=ROOT_DIR.parent / \"data_cache\", split=\"train\")",
   "id": "5dd296c19d31ad16",
   "outputs": [],
   "execution_count": 2
  },
  {
   "metadata": {
    "ExecuteTime": {
     "end_time": "2025-03-10T19:59:31.630494Z",
     "start_time": "2025-03-10T19:59:31.626163Z"
    }
   },
   "cell_type": "code",
   "source": "ds[0][\"file_name\"]",
   "id": "a96a25215a84c1f1",
   "outputs": [
    {
     "data": {
      "text/plain": [
       "'data/albeniz-aragon_fantasia_op47_part_6.mid'"
      ]
     },
     "execution_count": 7,
     "metadata": {},
     "output_type": "execute_result"
    }
   ],
   "execution_count": 7
  },
  {
   "metadata": {
    "ExecuteTime": {
     "end_time": "2025-03-10T20:11:20.279059Z",
     "start_time": "2025-03-10T20:11:20.144523Z"
    }
   },
   "cell_type": "code",
   "source": [
    "from huggingface_hub import hf_hub_download\n",
    "\n",
    "# Define the repository and filename\n",
    "repo_id = 'drengskapur/midi-classical-music'\n",
    "filename = 'example.mid'  # Replace with the actual filename you want to download\n",
    "\n",
    "# Download the file\n",
    "midi_file_path = hf_hub_download(repo_id=repo_id, filename=ds[4000][\"file_name\"], repo_type=\"dataset\", cache_dir=ROOT_DIR.parent / \"data_cache\")\n",
    "print(f'MIDI file downloaded to: {midi_file_path}')\n"
   ],
   "id": "2be8020a92e915d1",
   "outputs": [
    {
     "name": "stdout",
     "output_type": "stream",
     "text": [
      "MIDI file downloaded to: D:\\Dev\\repo\\bach\\data_cache\\datasets--drengskapur--midi-classical-music\\snapshots\\29c3079aedf539041b1cfd8ffd00d5d508681f1f\\data\\unknown_artist-a_h-beethoven_10.mid\n"
     ]
    }
   ],
   "execution_count": 24
  },
  {
   "metadata": {
    "ExecuteTime": {
     "end_time": "2025-03-12T02:34:20.875645Z",
     "start_time": "2025-03-12T02:34:20.844178Z"
    }
   },
   "cell_type": "code",
   "source": "midi_data = pretty_midi.PrettyMIDI(\"D:\\Dev\\\\repo\\\\bach\\data_cache\\data\\\\bacewitz-sonata_no4_for_piano_violin_mov1.mid\")",
   "id": "33d1befb1d555b09",
   "outputs": [
    {
     "name": "stderr",
     "output_type": "stream",
     "text": [
      "<>:1: SyntaxWarning: invalid escape sequence '\\D'\n",
      "<>:1: SyntaxWarning: invalid escape sequence '\\D'\n",
      "C:\\Users\\claud\\AppData\\Local\\Temp\\ipykernel_20084\\4058205898.py:1: SyntaxWarning: invalid escape sequence '\\D'\n",
      "  midi_data = pretty_midi.PrettyMIDI(\"D:\\Dev\\\\repo\\\\bach\\data_cache\\data\\\\bacewitz-sonata_no4_for_piano_violin_mov1.mid\")\n",
      "D:\\Dev\\repo\\bach\\env\\Lib\\site-packages\\pretty_midi\\pretty_midi.py:100: RuntimeWarning: Tempo, Key or Time signature change events found on non-zero tracks.  This is not a valid type 0 or type 1 MIDI file.  Tempo, Key or Time Signature may be wrong.\n",
      "  warnings.warn(\n"
     ]
    }
   ],
   "execution_count": 12
  },
  {
   "metadata": {
    "ExecuteTime": {
     "end_time": "2025-03-12T02:34:23.224917Z",
     "start_time": "2025-03-12T02:34:23.221405Z"
    }
   },
   "cell_type": "code",
   "source": [
    "notes = []\n",
    "for instrument in midi_data.instruments:\n",
    "        if not instrument.is_drum:  # Exclude drum tracks\n",
    "            for note in instrument.notes:\n",
    "                notes.append([note.start, note.pitch, note.velocity])\n",
    "notes = sorted(notes, key=lambda x: x[0])  # Sort by start time\n",
    "notes = np.array(notes)"
   ],
   "id": "6d220cc08a1d5b99",
   "outputs": [],
   "execution_count": 13
  },
  {
   "metadata": {
    "ExecuteTime": {
     "end_time": "2025-03-12T02:34:25.417306Z",
     "start_time": "2025-03-12T02:34:25.331794Z"
    }
   },
   "cell_type": "code",
   "source": [
    "import pretty_midi\n",
    "import numpy as np\n",
    "\n",
    "def tensor_to_midi(d, output_midi_path=\"generated_music.mid\", instrument_name=\"Acoustic Grand Piano\"):\n",
    "    \"\"\"\n",
    "    Convert a tensor output from the model into a MIDI file.\n",
    "\n",
    "    Args:\n",
    "        tensor (torch.Tensor or np.ndarray): Model output of shape (sequence_length, 3).\n",
    "        output_midi_path (str): Path to save the MIDI file.\n",
    "        instrument_name (str): Instrument for the MIDI track.\n",
    "    \"\"\"\n",
    "\n",
    "\n",
    "    # Create a PrettyMIDI object\n",
    "    midi = pretty_midi.PrettyMIDI()\n",
    "\n",
    "    # Create an instrument (default is piano)\n",
    "    instrument = pretty_midi.Instrument(program=pretty_midi.instrument_name_to_program(instrument_name))\n",
    "\n",
    "    for note_data in d:\n",
    "        start_time, pitch, velocity = note_data\n",
    "\n",
    "        # Ensure values are within valid ranges\n",
    "        pitch = int(np.clip(pitch, 0, 127))\n",
    "        velocity = int(np.clip(velocity, 0, 127))\n",
    "        duration = 0.4  # Default note duration (can be adjusted dynamically)\n",
    "\n",
    "        # Create a note and add it to the instrument\n",
    "        note = pretty_midi.Note(velocity=velocity, pitch=pitch, start=start_time, end=start_time + duration)\n",
    "        instrument.notes.append(note)\n",
    "\n",
    "    # Add instrument to MIDI\n",
    "    midi.instruments.append(instrument)\n",
    "\n",
    "    # Save MIDI file\n",
    "    midi.write(output_midi_path)\n",
    "    print(f\"Saved generated MIDI to {output_midi_path}\")\n",
    "\n",
    "tensor_to_midi(notes)"
   ],
   "id": "a4fce049130be4d3",
   "outputs": [
    {
     "name": "stdout",
     "output_type": "stream",
     "text": [
      "Saved generated MIDI to generated_music.mid\n"
     ]
    }
   ],
   "execution_count": 14
  },
  {
   "metadata": {
    "ExecuteTime": {
     "end_time": "2025-03-12T02:21:20.031737Z",
     "start_time": "2025-03-12T02:21:20.028711Z"
    }
   },
   "cell_type": "code",
   "source": [
    "def events_to_tokens(events, quantization_step=0.25):\n",
    "    token_sequence = []\n",
    "    prev_time = 0.0\n",
    "    for event in events:\n",
    "        delta = event['time'] - prev_time\n",
    "        num_steps = int(round(delta / quantization_step))\n",
    "        if num_steps > 0:\n",
    "            token_sequence.extend(['time_shift'] * num_steps)\n",
    "        token = f\"{event['type']}_{event['pitch']}\"\n",
    "        token_sequence.append(token)\n",
    "        prev_time = event['time']\n",
    "    return token_sequence"
   ],
   "id": "cef67f26d2998cd0",
   "outputs": [],
   "execution_count": 6
  },
  {
   "metadata": {
    "ExecuteTime": {
     "end_time": "2025-03-12T02:21:21.514970Z",
     "start_time": "2025-03-12T02:21:21.505894Z"
    }
   },
   "cell_type": "code",
   "source": "e = events_to_tokens(events)",
   "id": "aa339ac4f72a8f76",
   "outputs": [],
   "execution_count": 7
  },
  {
   "metadata": {
    "ExecuteTime": {
     "end_time": "2025-03-10T20:10:15.906292Z",
     "start_time": "2025-03-10T20:10:15.902805Z"
    }
   },
   "cell_type": "code",
   "source": [
    "notes = {}\n",
    "for instrument in midi_data.instruments:\n",
    "                if not instrument.is_drum:\n",
    "                    notes[instrument.name] = []\n",
    "                    for note in instrument.notes:\n",
    "                        notes.append(note.pitch)\n",
    "\n",
    "notes = np.array(notes)"
   ],
   "id": "9fda4a74c9059347",
   "outputs": [],
   "execution_count": 23
  },
  {
   "metadata": {
    "ExecuteTime": {
     "end_time": "2025-03-10T20:11:29.737779Z",
     "start_time": "2025-03-10T20:11:29.678043Z"
    }
   },
   "cell_type": "code",
   "source": [
    "# Initialize the mixer\n",
    "pygame.mixer.init()\n",
    "\n",
    "# Load the MIDI file\n",
    "pygame.mixer.music.load(midi_file_path)\n",
    "\n",
    "# Play the MIDI file\n",
    "pygame.mixer.music.play()"
   ],
   "id": "425af4f4f4a69085",
   "outputs": [],
   "execution_count": 26
  },
  {
   "metadata": {
    "collapsed": true
   },
   "cell_type": "code",
   "outputs": [],
   "execution_count": null,
   "source": [
    "\n",
    "pygame.mixer.init()\n",
    "pygame.mixer.music.load(ds[0])"
   ],
   "id": "initial_id"
  },
  {
   "metadata": {
    "ExecuteTime": {
     "end_time": "2025-03-12T02:42:17.286609Z",
     "start_time": "2025-03-12T02:42:16.529992Z"
    }
   },
   "cell_type": "code",
   "source": "import torch",
   "id": "b219082b742a4e6c",
   "outputs": [],
   "execution_count": 15
  },
  {
   "metadata": {
    "ExecuteTime": {
     "end_time": "2025-03-12T02:47:46.303537Z",
     "start_time": "2025-03-12T02:47:46.273027Z"
    }
   },
   "cell_type": "code",
   "source": "d = torch.load(\"D:\\\\Dev\\\\repo\\\\bach\\\\data_cache\\\\dataset.pt\", weights_only=False)",
   "id": "a76f9941f7b6348d",
   "outputs": [],
   "execution_count": 24
  }
 ],
 "metadata": {
  "kernelspec": {
   "display_name": "Python 3",
   "language": "python",
   "name": "python3"
  },
  "language_info": {
   "codemirror_mode": {
    "name": "ipython",
    "version": 2
   },
   "file_extension": ".py",
   "mimetype": "text/x-python",
   "name": "python",
   "nbconvert_exporter": "python",
   "pygments_lexer": "ipython2",
   "version": "2.7.6"
  }
 },
 "nbformat": 4,
 "nbformat_minor": 5
}
